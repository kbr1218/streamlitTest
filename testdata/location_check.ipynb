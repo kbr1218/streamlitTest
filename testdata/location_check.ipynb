{
 "cells": [
  {
   "cell_type": "markdown",
   "id": "fca7f31a",
   "metadata": {},
   "source": [
    "# 지역 구분 확인용 코드\n",
    "## 00. 기본 설정"
   ]
  },
  {
   "cell_type": "code",
   "execution_count": 1,
   "id": "f2adbf12",
   "metadata": {},
   "outputs": [],
   "source": [
    "# 데이터 분석을 위해 pandas를, 수치계산을 위해 numpy를, 시각화를 위해 seaborn을 import\n",
    "\n",
    "import pandas as pd\n",
    "import numpy as np\n",
    "import matplotlib.pyplot as plt\n",
    "import seaborn as sns\n",
    "\n",
    "# 경고 메시지는 출력되지 않게 합니다.\n",
    "import warnings\n",
    "warnings.filterwarnings(\"ignore\")"
   ]
  },
  {
   "cell_type": "code",
   "execution_count": 2,
   "id": "13fab722",
   "metadata": {},
   "outputs": [],
   "source": [
    "# 주피터 노트북에서 그래프가 보이는 설정\n",
    "%matplotlib notebook"
   ]
  },
  {
   "cell_type": "code",
   "execution_count": 3,
   "id": "c634ef68",
   "metadata": {},
   "outputs": [],
   "source": [
    "# 한글 font 설정\n",
    "\n",
    "import platform\n",
    "import matplotlib.font_manager as fm\n",
    "\n",
    "#matplotlib 패키지 한글 깨짐 처리 시작\n",
    "#------------------------------------------------------------------------------------\n",
    "# 운영체제별 한글 폰트 설정\n",
    "\n",
    "if platform.system() == 'Darwin': # Mac 환경 폰트 설정\n",
    "    plt.rc('font', family='AppleGothic')\n",
    "elif platform.system() == 'Windows': # Windows 환경 폰트 설정\n",
    "    plt.rc('font', family='Malgun Gothic')\n",
    "    \n",
    "plt.rcParams['axes.unicode_minus'] = False #한글 폰트 사용시 마이너스 폰트 깨짐 해결"
   ]
  },
  {
   "cell_type": "code",
   "execution_count": 4,
   "id": "66b57c97",
   "metadata": {},
   "outputs": [],
   "source": [
    "# 글씨 선명하게 출력하는 설정\n",
    "\n",
    "from IPython.display import set_matplotlib_formats\n",
    "set_matplotlib_formats(\"retina\")"
   ]
  },
  {
   "cell_type": "markdown",
   "id": "3cc3efde",
   "metadata": {},
   "source": [
    "<br>\n",
    "\n",
    "## 01. 데이터 불러오기"
   ]
  },
  {
   "cell_type": "code",
   "execution_count": 5,
   "id": "70b0b144",
   "metadata": {},
   "outputs": [
    {
     "data": {
      "text/html": [
       "<div>\n",
       "<style scoped>\n",
       "    .dataframe tbody tr th:only-of-type {\n",
       "        vertical-align: middle;\n",
       "    }\n",
       "\n",
       "    .dataframe tbody tr th {\n",
       "        vertical-align: top;\n",
       "    }\n",
       "\n",
       "    .dataframe thead th {\n",
       "        text-align: right;\n",
       "    }\n",
       "</style>\n",
       "<table border=\"1\" class=\"dataframe\">\n",
       "  <thead>\n",
       "    <tr style=\"text-align: right;\">\n",
       "      <th></th>\n",
       "      <th>YM</th>\n",
       "      <th>MCT_NM</th>\n",
       "      <th>OP_YMD</th>\n",
       "      <th>TYPE</th>\n",
       "      <th>MCT_TYPE</th>\n",
       "      <th>latitude</th>\n",
       "      <th>longitude</th>\n",
       "      <th>ADDR</th>\n",
       "      <th>RANK_CNT</th>\n",
       "      <th>RANK_AMT</th>\n",
       "      <th>...</th>\n",
       "      <th>HR_18_22_UE_CNT_RAT</th>\n",
       "      <th>HR_23_4_UE_CNT_RAT</th>\n",
       "      <th>LOCAL_UE_CNT_RAT</th>\n",
       "      <th>RC_M12_MAL_CUS_CNT_RAT</th>\n",
       "      <th>RC_M12_FME_CUS_CNT_RAT</th>\n",
       "      <th>RC_M12_AGE_UND_20_CUS_CNT_RAT</th>\n",
       "      <th>RC_M12_AGE_30_CUS_CNT_RAT</th>\n",
       "      <th>RC_M12_AGE_40_CUS_CNT_RAT</th>\n",
       "      <th>RC_M12_AGE_50_CUS_CNT_RAT</th>\n",
       "      <th>RC_M12_AGE_OVR_60_CUS_CNT_RAT</th>\n",
       "    </tr>\n",
       "  </thead>\n",
       "  <tbody>\n",
       "    <tr>\n",
       "      <th>0</th>\n",
       "      <td>202301</td>\n",
       "      <td>희야네식당</td>\n",
       "      <td>20000916</td>\n",
       "      <td>T1</td>\n",
       "      <td>가정식</td>\n",
       "      <td>33.279498</td>\n",
       "      <td>126.719772</td>\n",
       "      <td>제주 서귀포시 남원읍 남원리 100-3번지</td>\n",
       "      <td>3</td>\n",
       "      <td>4</td>\n",
       "      <td>...</td>\n",
       "      <td>0.000000</td>\n",
       "      <td>0.0</td>\n",
       "      <td>0.381616</td>\n",
       "      <td>0.644</td>\n",
       "      <td>0.356</td>\n",
       "      <td>0.183</td>\n",
       "      <td>0.232</td>\n",
       "      <td>0.351</td>\n",
       "      <td>0.171</td>\n",
       "      <td>0.063</td>\n",
       "    </tr>\n",
       "    <tr>\n",
       "      <th>1</th>\n",
       "      <td>202301</td>\n",
       "      <td>희신이네</td>\n",
       "      <td>20060515</td>\n",
       "      <td>T1</td>\n",
       "      <td>가정식</td>\n",
       "      <td>33.263389</td>\n",
       "      <td>126.550838</td>\n",
       "      <td>제주 서귀포시 서홍동 1651-11번지</td>\n",
       "      <td>3</td>\n",
       "      <td>4</td>\n",
       "      <td>...</td>\n",
       "      <td>0.264706</td>\n",
       "      <td>0.0</td>\n",
       "      <td>0.701183</td>\n",
       "      <td>0.686</td>\n",
       "      <td>0.314</td>\n",
       "      <td>0.118</td>\n",
       "      <td>0.261</td>\n",
       "      <td>0.342</td>\n",
       "      <td>0.190</td>\n",
       "      <td>0.089</td>\n",
       "    </tr>\n",
       "    <tr>\n",
       "      <th>2</th>\n",
       "      <td>202301</td>\n",
       "      <td>흥미</td>\n",
       "      <td>20030814</td>\n",
       "      <td>T1</td>\n",
       "      <td>가정식</td>\n",
       "      <td>33.490006</td>\n",
       "      <td>126.495004</td>\n",
       "      <td>제주 제주시 연동 291-40번지</td>\n",
       "      <td>4</td>\n",
       "      <td>4</td>\n",
       "      <td>...</td>\n",
       "      <td>0.094340</td>\n",
       "      <td>0.0</td>\n",
       "      <td>0.736842</td>\n",
       "      <td>0.562</td>\n",
       "      <td>0.438</td>\n",
       "      <td>0.107</td>\n",
       "      <td>0.299</td>\n",
       "      <td>0.336</td>\n",
       "      <td>0.226</td>\n",
       "      <td>0.032</td>\n",
       "    </tr>\n",
       "  </tbody>\n",
       "</table>\n",
       "<p>3 rows × 31 columns</p>\n",
       "</div>"
      ],
      "text/plain": [
       "       YM MCT_NM    OP_YMD TYPE MCT_TYPE   latitude   longitude  \\\n",
       "0  202301  희야네식당  20000916   T1      가정식  33.279498  126.719772   \n",
       "1  202301   희신이네  20060515   T1      가정식  33.263389  126.550838   \n",
       "2  202301     흥미  20030814   T1      가정식  33.490006  126.495004   \n",
       "\n",
       "                      ADDR  RANK_CNT  RANK_AMT  ...  HR_18_22_UE_CNT_RAT  \\\n",
       "0  제주 서귀포시 남원읍 남원리 100-3번지         3         4  ...             0.000000   \n",
       "1    제주 서귀포시 서홍동 1651-11번지         3         4  ...             0.264706   \n",
       "2       제주 제주시 연동 291-40번지         4         4  ...             0.094340   \n",
       "\n",
       "   HR_23_4_UE_CNT_RAT  LOCAL_UE_CNT_RAT  RC_M12_MAL_CUS_CNT_RAT  \\\n",
       "0                 0.0          0.381616                   0.644   \n",
       "1                 0.0          0.701183                   0.686   \n",
       "2                 0.0          0.736842                   0.562   \n",
       "\n",
       "   RC_M12_FME_CUS_CNT_RAT  RC_M12_AGE_UND_20_CUS_CNT_RAT  \\\n",
       "0                   0.356                          0.183   \n",
       "1                   0.314                          0.118   \n",
       "2                   0.438                          0.107   \n",
       "\n",
       "   RC_M12_AGE_30_CUS_CNT_RAT  RC_M12_AGE_40_CUS_CNT_RAT  \\\n",
       "0                      0.232                      0.351   \n",
       "1                      0.261                      0.342   \n",
       "2                      0.299                      0.336   \n",
       "\n",
       "   RC_M12_AGE_50_CUS_CNT_RAT  RC_M12_AGE_OVR_60_CUS_CNT_RAT  \n",
       "0                      0.171                          0.063  \n",
       "1                      0.190                          0.089  \n",
       "2                      0.226                          0.032  \n",
       "\n",
       "[3 rows x 31 columns]"
      ]
     },
     "execution_count": 5,
     "metadata": {},
     "output_type": "execute_result"
    }
   ],
   "source": [
    "df = pd.read_excel('data_prep_dd.xlsx')\n",
    "df.head(3)"
   ]
  },
  {
   "cell_type": "code",
   "execution_count": 6,
   "id": "6fda3bb8",
   "metadata": {},
   "outputs": [
    {
     "data": {
      "text/plain": [
       "'\\n서부\\n북부\\n동부\\n남부\\n산지\\n\\n가파리 >> 마라도+가파도\\n마라도: 제주 서귀포시 대정읍 마라로101번길 46 (대정읍 가파리)\\n가파도: 제주특별자치도 서귀포시 대정읍 가파리 276\\n\\n협재리 >> 비양도+제주도 일부 포함\\n비양도길 >> 비양도만\\n비양도: 제주 제주시 한림읍 협재리\\n\\n추자면 >> 추자도와 주위 섬\\n추자도: 제주특별자치도 제주시 추자면 묵리\\n'"
      ]
     },
     "execution_count": 6,
     "metadata": {},
     "output_type": "execute_result"
    }
   ],
   "source": [
    "# 지역 종류\n",
    "\"\"\"\n",
    "서부\n",
    "북부\n",
    "동부\n",
    "남부\n",
    "산지\n",
    "\n",
    "가파리 >> 마라도+가파도\n",
    "마라도: 제주 서귀포시 대정읍 마라로101번길 46 (대정읍 가파리)\n",
    "가파도: 제주특별자치도 서귀포시 대정읍 가파리 276\n",
    "\n",
    "협재리 >> 비양도+제주도 일부 포함\n",
    "비양도길 >> 비양도만\n",
    "비양도: 제주 제주시 한림읍 협재리\n",
    "\n",
    "추자면 >> 추자도와 주위 섬\n",
    "추자도: 제주특별자치도 제주시 추자면 묵리\n",
    "\n",
    "우도면 >> 우도만\n",
    "우도: 제주특별자치도 제주시 우도면 연평리\n",
    "\"\"\""
   ]
  },
  {
   "cell_type": "code",
   "execution_count": 9,
   "id": "e77f43c3",
   "metadata": {},
   "outputs": [
    {
     "data": {
      "text/plain": [
       "86"
      ]
     },
     "execution_count": 9,
     "metadata": {},
     "output_type": "execute_result"
    }
   ],
   "source": [
    "# '가파리'만 확인\n",
    "len(df[df['ADDR'].str.contains('가파리', na=False)])"
   ]
  },
  {
   "cell_type": "code",
   "execution_count": 16,
   "id": "d386a070",
   "metadata": {},
   "outputs": [
    {
     "data": {
      "text/plain": [
       "0"
      ]
     },
     "execution_count": 16,
     "metadata": {},
     "output_type": "execute_result"
    }
   ],
   "source": [
    "# '비양도'만 출력\n",
    "len(df[df['ADDR'].str.contains('비양', na=False)])"
   ]
  },
  {
   "cell_type": "code",
   "execution_count": 21,
   "id": "0e1a7140",
   "metadata": {},
   "outputs": [
    {
     "data": {
      "text/plain": [
       "39"
      ]
     },
     "execution_count": 21,
     "metadata": {},
     "output_type": "execute_result"
    }
   ],
   "source": [
    "# '추자면'만 출력\n",
    "len(df[df['ADDR'].str.contains('추자면', na=False)])"
   ]
  },
  {
   "cell_type": "code",
   "execution_count": 19,
   "id": "1459d6a9",
   "metadata": {},
   "outputs": [
    {
     "data": {
      "text/plain": [
       "445"
      ]
     },
     "execution_count": 19,
     "metadata": {},
     "output_type": "execute_result"
    }
   ],
   "source": [
    "# '우도'만 출력\n",
    "len(df[df['ADDR'].str.contains('우도면', na=False)])"
   ]
  },
  {
   "cell_type": "code",
   "execution_count": null,
   "id": "98987147",
   "metadata": {},
   "outputs": [],
   "source": []
  }
 ],
 "metadata": {
  "kernelspec": {
   "display_name": "Python 3 (ipykernel)",
   "language": "python",
   "name": "python3"
  },
  "language_info": {
   "codemirror_mode": {
    "name": "ipython",
    "version": 3
   },
   "file_extension": ".py",
   "mimetype": "text/x-python",
   "name": "python",
   "nbconvert_exporter": "python",
   "pygments_lexer": "ipython3",
   "version": "3.8.20"
  }
 },
 "nbformat": 4,
 "nbformat_minor": 5
}
